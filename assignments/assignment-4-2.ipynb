{
 "cells": [
  {
   "cell_type": "markdown",
   "metadata": {},
   "source": [
    "# Assignment 4 - Part 2\n",
    "\n",
    "Author: [Lucas David](http://github.com/lucasdavid)  \n",
    "This notebook can be downloaded at https://github.com/lucasdavid/mo850/"
   ]
  },
  {
   "cell_type": "code",
   "execution_count": 1,
   "metadata": {},
   "outputs": [
    {
     "name": "stderr",
     "output_type": "stream",
     "text": [
      "Loading required package: HDInterval\n"
     ]
    }
   ],
   "source": [
    "library(MBESS)\n",
    "library(BEST)"
   ]
  },
  {
   "cell_type": "markdown",
   "metadata": {},
   "source": [
    "**Either use an analytical formula based on the z-test or the formula based on the non-central t-distributions (implemented by the R package MBESS (function ci.smd (the smd parameter is the effect size computer above) compute the confidence interval for the effect size.**"
   ]
  },
  {
   "cell_type": "code",
   "execution_count": 2,
   "metadata": {},
   "outputs": [
    {
     "data": {
      "text/html": [
       "<dl>\n",
       "\t<dt>$Lower.Conf.Limit.smd</dt>\n",
       "\t\t<dd>0.172161885011616</dd>\n",
       "\t<dt>$smd</dt>\n",
       "\t\t<dd>0.327767122458783</dd>\n",
       "\t<dt>$Upper.Conf.Limit.smd</dt>\n",
       "\t\t<dd>0.483121893269397</dd>\n",
       "</dl>\n"
      ],
      "text/latex": [
       "\\begin{description}\n",
       "\\item[\\$Lower.Conf.Limit.smd] 0.172161885011616\n",
       "\\item[\\$smd] 0.327767122458783\n",
       "\\item[\\$Upper.Conf.Limit.smd] 0.483121893269397\n",
       "\\end{description}\n"
      ],
      "text/markdown": [
       "$Lower.Conf.Limit.smd\n",
       ":   0.172161885011616\n",
       "$smd\n",
       ":   0.327767122458783\n",
       "$Upper.Conf.Limit.smd\n",
       ":   0.483121893269397\n",
       "\n",
       "\n"
      ],
      "text/plain": [
       "$Lower.Conf.Limit.smd\n",
       "[1] 0.1721619\n",
       "\n",
       "$smd\n",
       "[1] 0.3277671\n",
       "\n",
       "$Upper.Conf.Limit.smd\n",
       "[1] 0.4831219\n"
      ]
     },
     "metadata": {},
     "output_type": "display_data"
    }
   ],
   "source": [
    "ci.smd(smd=0.3277671224587828, n.1=299, n.2=349)"
   ]
  },
  {
   "cell_type": "markdown",
   "metadata": {},
   "source": [
    "** Let us assume that a effect size of 0.3 or less is irrelevant (please notice that this criterium of irrelevance does not correspond to the criterium used in the TOST question above). Can you state with 95% confidence that the difference between the experimental and the control groups is irrelevant?**  \n",
    "\n",
    "No, because 0.3 > the lower confidence limit I have found."
   ]
  },
  {
   "cell_type": "code",
   "execution_count": 3,
   "metadata": {},
   "outputs": [
    {
     "data": {
      "text/html": [
       "<table>\n",
       "<thead><tr><th scope=col>V1</th></tr></thead>\n",
       "<tbody>\n",
       "\t<tr><td> 6.732578</td></tr>\n",
       "\t<tr><td>12.481446</td></tr>\n",
       "\t<tr><td> 8.573194</td></tr>\n",
       "\t<tr><td>10.452512</td></tr>\n",
       "\t<tr><td> 7.492170</td></tr>\n",
       "\t<tr><td>12.695852</td></tr>\n",
       "</tbody>\n",
       "</table>\n"
      ],
      "text/latex": [
       "\\begin{tabular}{r|l}\n",
       " V1\\\\\n",
       "\\hline\n",
       "\t  6.732578\\\\\n",
       "\t 12.481446\\\\\n",
       "\t  8.573194\\\\\n",
       "\t 10.452512\\\\\n",
       "\t  7.492170\\\\\n",
       "\t 12.695852\\\\\n",
       "\\end{tabular}\n"
      ],
      "text/markdown": [
       "\n",
       "V1 | \n",
       "|---|---|---|---|---|---|\n",
       "|  6.732578 | \n",
       "| 12.481446 | \n",
       "|  8.573194 | \n",
       "| 10.452512 | \n",
       "|  7.492170 | \n",
       "| 12.695852 | \n",
       "\n",
       "\n"
      ],
      "text/plain": [
       "  V1       \n",
       "1  6.732578\n",
       "2 12.481446\n",
       "3  8.573194\n",
       "4 10.452512\n",
       "5  7.492170\n",
       "6 12.695852"
      ]
     },
     "metadata": {},
     "output_type": "display_data"
    },
    {
     "data": {
      "text/html": [
       "<table>\n",
       "<thead><tr><th scope=col>V1</th></tr></thead>\n",
       "<tbody>\n",
       "\t<tr><td>8.314960</td></tr>\n",
       "\t<tr><td>9.104521</td></tr>\n",
       "\t<tr><td>8.631113</td></tr>\n",
       "\t<tr><td>2.676400</td></tr>\n",
       "\t<tr><td>9.096843</td></tr>\n",
       "\t<tr><td>7.040633</td></tr>\n",
       "</tbody>\n",
       "</table>\n"
      ],
      "text/latex": [
       "\\begin{tabular}{r|l}\n",
       " V1\\\\\n",
       "\\hline\n",
       "\t 8.314960\\\\\n",
       "\t 9.104521\\\\\n",
       "\t 8.631113\\\\\n",
       "\t 2.676400\\\\\n",
       "\t 9.096843\\\\\n",
       "\t 7.040633\\\\\n",
       "\\end{tabular}\n"
      ],
      "text/markdown": [
       "\n",
       "V1 | \n",
       "|---|---|---|---|---|---|\n",
       "| 8.314960 | \n",
       "| 9.104521 | \n",
       "| 8.631113 | \n",
       "| 2.676400 | \n",
       "| 9.096843 | \n",
       "| 7.040633 | \n",
       "\n",
       "\n"
      ],
      "text/plain": [
       "  V1      \n",
       "1 8.314960\n",
       "2 9.104521\n",
       "3 8.631113\n",
       "4 2.676400\n",
       "5 9.096843\n",
       "6 7.040633"
      ]
     },
     "metadata": {},
     "output_type": "display_data"
    }
   ],
   "source": [
    "ex <- read.csv(\"../data/4/exp.csv\", header=FALSE)\n",
    "con <- read.csv(\"../data/4/control.csv\", header=FALSE)\n",
    "\n",
    "head(ex)\n",
    "head(con)"
   ]
  },
  {
   "cell_type": "markdown",
   "metadata": {},
   "source": [
    "**Run the BESTmcmc function on the data**"
   ]
  },
  {
   "cell_type": "code",
   "execution_count": 4,
   "metadata": {},
   "outputs": [
    {
     "name": "stderr",
     "output_type": "stream",
     "text": [
      "Waiting for parallel processing to complete...done.\n"
     ]
    }
   ],
   "source": [
    "BESTout <- BESTmcmc(ex$V1, con$V1)"
   ]
  },
  {
   "cell_type": "code",
   "execution_count": 5,
   "metadata": {},
   "outputs": [
    {
     "data": {
      "text/html": [
       "<table>\n",
       "<thead><tr><th scope=col>mu1</th><th scope=col>mu2</th><th scope=col>nu</th><th scope=col>sigma1</th><th scope=col>sigma2</th></tr></thead>\n",
       "<tbody>\n",
       "\t<tr><td>11.01864 </td><td>10.168850</td><td>55.49925 </td><td>3.717935 </td><td>2.948872 </td></tr>\n",
       "\t<tr><td>10.90081 </td><td>10.152592</td><td>82.13283 </td><td>3.730241 </td><td>3.038753 </td></tr>\n",
       "\t<tr><td>11.12510 </td><td>10.137251</td><td>63.15984 </td><td>3.807603 </td><td>2.876087 </td></tr>\n",
       "\t<tr><td>11.00589 </td><td>10.145538</td><td>34.22431 </td><td>3.873142 </td><td>3.004851 </td></tr>\n",
       "\t<tr><td>11.25291 </td><td>10.300545</td><td>59.24125 </td><td>3.721348 </td><td>3.040935 </td></tr>\n",
       "\t<tr><td>10.96573 </td><td>10.162759</td><td>38.62068 </td><td>3.806647 </td><td>3.012268 </td></tr>\n",
       "\t<tr><td>11.11698 </td><td> 9.919257</td><td>35.95160 </td><td>3.890423 </td><td>2.848524 </td></tr>\n",
       "\t<tr><td>11.31147 </td><td>10.162331</td><td>35.22130 </td><td>3.615410 </td><td>2.872335 </td></tr>\n",
       "\t<tr><td>11.39592 </td><td>10.123264</td><td>59.83225 </td><td>3.707345 </td><td>2.862320 </td></tr>\n",
       "\t<tr><td>11.35146 </td><td>10.186161</td><td>72.80634 </td><td>3.887366 </td><td>2.831601 </td></tr>\n",
       "\t<tr><td>10.95510 </td><td>10.277234</td><td>71.05139 </td><td>3.934899 </td><td>2.856984 </td></tr>\n",
       "\t<tr><td>11.04932 </td><td>10.032221</td><td>76.63421 </td><td>4.029122 </td><td>2.963559 </td></tr>\n",
       "\t<tr><td>11.09459 </td><td>10.221087</td><td>14.92271 </td><td>4.004861 </td><td>2.757326 </td></tr>\n",
       "\t<tr><td>11.22464 </td><td>10.119849</td><td>22.83951 </td><td>4.049554 </td><td>2.959522 </td></tr>\n",
       "\t<tr><td>11.27432 </td><td>10.100924</td><td>17.59793 </td><td>3.484968 </td><td>2.728434 </td></tr>\n",
       "\t<tr><td>11.25851 </td><td>10.219013</td><td>30.24533 </td><td>3.513913 </td><td>2.871949 </td></tr>\n",
       "\t<tr><td>11.41794 </td><td>10.091328</td><td>19.22294 </td><td>3.439457 </td><td>2.831477 </td></tr>\n",
       "\t<tr><td>11.21031 </td><td> 9.965423</td><td>21.49235 </td><td>3.439885 </td><td>2.859440 </td></tr>\n",
       "\t<tr><td>11.03741 </td><td> 9.991719</td><td>47.82157 </td><td>3.950201 </td><td>2.860598 </td></tr>\n",
       "\t<tr><td>11.02221 </td><td> 9.941494</td><td>46.31690 </td><td>3.831640 </td><td>2.851757 </td></tr>\n",
       "\t<tr><td>11.63596 </td><td>10.169088</td><td>86.95976 </td><td>3.970841 </td><td>2.985082 </td></tr>\n",
       "\t<tr><td>11.68714 </td><td>10.201904</td><td>87.91609 </td><td>4.049950 </td><td>2.893599 </td></tr>\n",
       "\t<tr><td>11.66547 </td><td>10.028153</td><td>46.74473 </td><td>3.753199 </td><td>3.024167 </td></tr>\n",
       "\t<tr><td>11.49633 </td><td>10.037422</td><td>35.88072 </td><td>3.819293 </td><td>2.925706 </td></tr>\n",
       "\t<tr><td>11.11870 </td><td>10.280373</td><td>35.10675 </td><td>3.780869 </td><td>2.888378 </td></tr>\n",
       "\t<tr><td>11.66750 </td><td>10.335864</td><td>80.94773 </td><td>3.627326 </td><td>3.093994 </td></tr>\n",
       "\t<tr><td>11.56729 </td><td>10.030260</td><td>41.09623 </td><td>4.057343 </td><td>2.750588 </td></tr>\n",
       "\t<tr><td>11.47811 </td><td>10.112374</td><td>33.05805 </td><td>3.483499 </td><td>2.902913 </td></tr>\n",
       "\t<tr><td>10.90977 </td><td> 9.892979</td><td>33.60868 </td><td>3.727592 </td><td>2.833061 </td></tr>\n",
       "\t<tr><td>10.86412 </td><td> 9.876320</td><td>62.27897 </td><td>4.022449 </td><td>3.030186 </td></tr>\n",
       "\t<tr><td>⋮</td><td>⋮</td><td>⋮</td><td>⋮</td><td>⋮</td></tr>\n",
       "\t<tr><td>11.16249 </td><td>10.144700</td><td> 49.74948</td><td>3.748337 </td><td>2.863244 </td></tr>\n",
       "\t<tr><td>11.16369 </td><td>10.175085</td><td> 26.54782</td><td>3.911138 </td><td>2.946443 </td></tr>\n",
       "\t<tr><td>11.29827 </td><td>10.239507</td><td> 82.67833</td><td>4.018382 </td><td>3.004570 </td></tr>\n",
       "\t<tr><td>11.38162 </td><td> 9.978929</td><td> 35.61309</td><td>4.032044 </td><td>3.011555 </td></tr>\n",
       "\t<tr><td>11.06630 </td><td>10.049040</td><td> 35.84731</td><td>3.798419 </td><td>3.016114 </td></tr>\n",
       "\t<tr><td>11.41584 </td><td>10.046925</td><td> 30.91938</td><td>3.743129 </td><td>2.968717 </td></tr>\n",
       "\t<tr><td>11.34406 </td><td>10.052281</td><td> 24.26473</td><td>3.636262 </td><td>2.969240 </td></tr>\n",
       "\t<tr><td>11.71377 </td><td>10.163033</td><td> 82.98691</td><td>3.775043 </td><td>2.834429 </td></tr>\n",
       "\t<tr><td>11.04679 </td><td> 9.892615</td><td> 72.59268</td><td>3.991694 </td><td>2.967496 </td></tr>\n",
       "\t<tr><td>11.35737 </td><td>10.374307</td><td> 43.33462</td><td>3.962862 </td><td>2.985987 </td></tr>\n",
       "\t<tr><td>11.06681 </td><td>10.296926</td><td> 40.74995</td><td>3.494553 </td><td>2.961899 </td></tr>\n",
       "\t<tr><td>11.37714 </td><td>10.067952</td><td> 13.54313</td><td>3.476036 </td><td>3.031416 </td></tr>\n",
       "\t<tr><td>11.30011 </td><td>10.186945</td><td> 17.71077</td><td>3.408192 </td><td>3.016976 </td></tr>\n",
       "\t<tr><td>11.40203 </td><td> 9.985147</td><td> 93.27584</td><td>3.829625 </td><td>3.140429 </td></tr>\n",
       "\t<tr><td>10.99202 </td><td>10.058815</td><td> 93.52617</td><td>4.169713 </td><td>2.771888 </td></tr>\n",
       "\t<tr><td>11.22818 </td><td>10.008779</td><td> 79.18429</td><td>4.093479 </td><td>2.918404 </td></tr>\n",
       "\t<tr><td>11.02188 </td><td>10.226344</td><td> 50.87045</td><td>4.005830 </td><td>3.007056 </td></tr>\n",
       "\t<tr><td>11.23439 </td><td>10.412573</td><td> 45.06601</td><td>3.611836 </td><td>3.003826 </td></tr>\n",
       "\t<tr><td>10.92355 </td><td> 9.977942</td><td> 26.38192</td><td>3.752364 </td><td>2.976904 </td></tr>\n",
       "\t<tr><td>10.96776 </td><td>10.161072</td><td> 23.52047</td><td>3.668839 </td><td>2.791075 </td></tr>\n",
       "\t<tr><td>11.35725 </td><td>10.104121</td><td> 32.48506</td><td>3.768530 </td><td>2.869902 </td></tr>\n",
       "\t<tr><td>11.50689 </td><td>10.229500</td><td> 63.88824</td><td>3.865822 </td><td>2.942258 </td></tr>\n",
       "\t<tr><td>11.48082 </td><td>10.245349</td><td> 29.90929</td><td>3.892888 </td><td>2.849285 </td></tr>\n",
       "\t<tr><td>11.50900 </td><td>10.263244</td><td> 40.93694</td><td>3.821435 </td><td>2.959070 </td></tr>\n",
       "\t<tr><td>11.24920 </td><td>10.134110</td><td> 70.16925</td><td>3.865725 </td><td>3.082106 </td></tr>\n",
       "\t<tr><td>11.05783 </td><td>10.223117</td><td> 73.85727</td><td>4.052443 </td><td>2.832963 </td></tr>\n",
       "\t<tr><td>11.48136 </td><td>10.069861</td><td>101.85389</td><td>4.083309 </td><td>2.861438 </td></tr>\n",
       "\t<tr><td>11.75620 </td><td> 9.994564</td><td>114.22548</td><td>3.851719 </td><td>3.106053 </td></tr>\n",
       "\t<tr><td>11.72522 </td><td>10.549042</td><td> 24.75747</td><td>3.872864 </td><td>2.962862 </td></tr>\n",
       "\t<tr><td>11.34969 </td><td>10.442803</td><td> 22.82124</td><td>3.898718 </td><td>2.807779 </td></tr>\n",
       "</tbody>\n",
       "</table>\n"
      ],
      "text/latex": [
       "\\begin{tabular}{r|lllll}\n",
       " mu1 & mu2 & nu & sigma1 & sigma2\\\\\n",
       "\\hline\n",
       "\t 11.01864  & 10.168850 & 55.49925  & 3.717935  & 2.948872 \\\\\n",
       "\t 10.90081  & 10.152592 & 82.13283  & 3.730241  & 3.038753 \\\\\n",
       "\t 11.12510  & 10.137251 & 63.15984  & 3.807603  & 2.876087 \\\\\n",
       "\t 11.00589  & 10.145538 & 34.22431  & 3.873142  & 3.004851 \\\\\n",
       "\t 11.25291  & 10.300545 & 59.24125  & 3.721348  & 3.040935 \\\\\n",
       "\t 10.96573  & 10.162759 & 38.62068  & 3.806647  & 3.012268 \\\\\n",
       "\t 11.11698  &  9.919257 & 35.95160  & 3.890423  & 2.848524 \\\\\n",
       "\t 11.31147  & 10.162331 & 35.22130  & 3.615410  & 2.872335 \\\\\n",
       "\t 11.39592  & 10.123264 & 59.83225  & 3.707345  & 2.862320 \\\\\n",
       "\t 11.35146  & 10.186161 & 72.80634  & 3.887366  & 2.831601 \\\\\n",
       "\t 10.95510  & 10.277234 & 71.05139  & 3.934899  & 2.856984 \\\\\n",
       "\t 11.04932  & 10.032221 & 76.63421  & 4.029122  & 2.963559 \\\\\n",
       "\t 11.09459  & 10.221087 & 14.92271  & 4.004861  & 2.757326 \\\\\n",
       "\t 11.22464  & 10.119849 & 22.83951  & 4.049554  & 2.959522 \\\\\n",
       "\t 11.27432  & 10.100924 & 17.59793  & 3.484968  & 2.728434 \\\\\n",
       "\t 11.25851  & 10.219013 & 30.24533  & 3.513913  & 2.871949 \\\\\n",
       "\t 11.41794  & 10.091328 & 19.22294  & 3.439457  & 2.831477 \\\\\n",
       "\t 11.21031  &  9.965423 & 21.49235  & 3.439885  & 2.859440 \\\\\n",
       "\t 11.03741  &  9.991719 & 47.82157  & 3.950201  & 2.860598 \\\\\n",
       "\t 11.02221  &  9.941494 & 46.31690  & 3.831640  & 2.851757 \\\\\n",
       "\t 11.63596  & 10.169088 & 86.95976  & 3.970841  & 2.985082 \\\\\n",
       "\t 11.68714  & 10.201904 & 87.91609  & 4.049950  & 2.893599 \\\\\n",
       "\t 11.66547  & 10.028153 & 46.74473  & 3.753199  & 3.024167 \\\\\n",
       "\t 11.49633  & 10.037422 & 35.88072  & 3.819293  & 2.925706 \\\\\n",
       "\t 11.11870  & 10.280373 & 35.10675  & 3.780869  & 2.888378 \\\\\n",
       "\t 11.66750  & 10.335864 & 80.94773  & 3.627326  & 3.093994 \\\\\n",
       "\t 11.56729  & 10.030260 & 41.09623  & 4.057343  & 2.750588 \\\\\n",
       "\t 11.47811  & 10.112374 & 33.05805  & 3.483499  & 2.902913 \\\\\n",
       "\t 10.90977  &  9.892979 & 33.60868  & 3.727592  & 2.833061 \\\\\n",
       "\t 10.86412  &  9.876320 & 62.27897  & 4.022449  & 3.030186 \\\\\n",
       "\t ⋮ & ⋮ & ⋮ & ⋮ & ⋮\\\\\n",
       "\t 11.16249  & 10.144700 &  49.74948 & 3.748337  & 2.863244 \\\\\n",
       "\t 11.16369  & 10.175085 &  26.54782 & 3.911138  & 2.946443 \\\\\n",
       "\t 11.29827  & 10.239507 &  82.67833 & 4.018382  & 3.004570 \\\\\n",
       "\t 11.38162  &  9.978929 &  35.61309 & 4.032044  & 3.011555 \\\\\n",
       "\t 11.06630  & 10.049040 &  35.84731 & 3.798419  & 3.016114 \\\\\n",
       "\t 11.41584  & 10.046925 &  30.91938 & 3.743129  & 2.968717 \\\\\n",
       "\t 11.34406  & 10.052281 &  24.26473 & 3.636262  & 2.969240 \\\\\n",
       "\t 11.71377  & 10.163033 &  82.98691 & 3.775043  & 2.834429 \\\\\n",
       "\t 11.04679  &  9.892615 &  72.59268 & 3.991694  & 2.967496 \\\\\n",
       "\t 11.35737  & 10.374307 &  43.33462 & 3.962862  & 2.985987 \\\\\n",
       "\t 11.06681  & 10.296926 &  40.74995 & 3.494553  & 2.961899 \\\\\n",
       "\t 11.37714  & 10.067952 &  13.54313 & 3.476036  & 3.031416 \\\\\n",
       "\t 11.30011  & 10.186945 &  17.71077 & 3.408192  & 3.016976 \\\\\n",
       "\t 11.40203  &  9.985147 &  93.27584 & 3.829625  & 3.140429 \\\\\n",
       "\t 10.99202  & 10.058815 &  93.52617 & 4.169713  & 2.771888 \\\\\n",
       "\t 11.22818  & 10.008779 &  79.18429 & 4.093479  & 2.918404 \\\\\n",
       "\t 11.02188  & 10.226344 &  50.87045 & 4.005830  & 3.007056 \\\\\n",
       "\t 11.23439  & 10.412573 &  45.06601 & 3.611836  & 3.003826 \\\\\n",
       "\t 10.92355  &  9.977942 &  26.38192 & 3.752364  & 2.976904 \\\\\n",
       "\t 10.96776  & 10.161072 &  23.52047 & 3.668839  & 2.791075 \\\\\n",
       "\t 11.35725  & 10.104121 &  32.48506 & 3.768530  & 2.869902 \\\\\n",
       "\t 11.50689  & 10.229500 &  63.88824 & 3.865822  & 2.942258 \\\\\n",
       "\t 11.48082  & 10.245349 &  29.90929 & 3.892888  & 2.849285 \\\\\n",
       "\t 11.50900  & 10.263244 &  40.93694 & 3.821435  & 2.959070 \\\\\n",
       "\t 11.24920  & 10.134110 &  70.16925 & 3.865725  & 3.082106 \\\\\n",
       "\t 11.05783  & 10.223117 &  73.85727 & 4.052443  & 2.832963 \\\\\n",
       "\t 11.48136  & 10.069861 & 101.85389 & 4.083309  & 2.861438 \\\\\n",
       "\t 11.75620  &  9.994564 & 114.22548 & 3.851719  & 3.106053 \\\\\n",
       "\t 11.72522  & 10.549042 &  24.75747 & 3.872864  & 2.962862 \\\\\n",
       "\t 11.34969  & 10.442803 &  22.82124 & 3.898718  & 2.807779 \\\\\n",
       "\\end{tabular}\n"
      ],
      "text/markdown": [
       "\n",
       "mu1 | mu2 | nu | sigma1 | sigma2 | \n",
       "|---|---|---|---|---|---|---|---|---|---|---|---|---|---|---|---|---|---|---|---|---|---|---|---|---|---|---|---|---|---|---|---|---|---|---|---|---|---|---|---|---|---|---|---|---|---|---|---|---|---|---|---|---|---|---|---|---|---|---|---|---|\n",
       "| 11.01864  | 10.168850 | 55.49925  | 3.717935  | 2.948872  | \n",
       "| 10.90081  | 10.152592 | 82.13283  | 3.730241  | 3.038753  | \n",
       "| 11.12510  | 10.137251 | 63.15984  | 3.807603  | 2.876087  | \n",
       "| 11.00589  | 10.145538 | 34.22431  | 3.873142  | 3.004851  | \n",
       "| 11.25291  | 10.300545 | 59.24125  | 3.721348  | 3.040935  | \n",
       "| 10.96573  | 10.162759 | 38.62068  | 3.806647  | 3.012268  | \n",
       "| 11.11698  |  9.919257 | 35.95160  | 3.890423  | 2.848524  | \n",
       "| 11.31147  | 10.162331 | 35.22130  | 3.615410  | 2.872335  | \n",
       "| 11.39592  | 10.123264 | 59.83225  | 3.707345  | 2.862320  | \n",
       "| 11.35146  | 10.186161 | 72.80634  | 3.887366  | 2.831601  | \n",
       "| 10.95510  | 10.277234 | 71.05139  | 3.934899  | 2.856984  | \n",
       "| 11.04932  | 10.032221 | 76.63421  | 4.029122  | 2.963559  | \n",
       "| 11.09459  | 10.221087 | 14.92271  | 4.004861  | 2.757326  | \n",
       "| 11.22464  | 10.119849 | 22.83951  | 4.049554  | 2.959522  | \n",
       "| 11.27432  | 10.100924 | 17.59793  | 3.484968  | 2.728434  | \n",
       "| 11.25851  | 10.219013 | 30.24533  | 3.513913  | 2.871949  | \n",
       "| 11.41794  | 10.091328 | 19.22294  | 3.439457  | 2.831477  | \n",
       "| 11.21031  |  9.965423 | 21.49235  | 3.439885  | 2.859440  | \n",
       "| 11.03741  |  9.991719 | 47.82157  | 3.950201  | 2.860598  | \n",
       "| 11.02221  |  9.941494 | 46.31690  | 3.831640  | 2.851757  | \n",
       "| 11.63596  | 10.169088 | 86.95976  | 3.970841  | 2.985082  | \n",
       "| 11.68714  | 10.201904 | 87.91609  | 4.049950  | 2.893599  | \n",
       "| 11.66547  | 10.028153 | 46.74473  | 3.753199  | 3.024167  | \n",
       "| 11.49633  | 10.037422 | 35.88072  | 3.819293  | 2.925706  | \n",
       "| 11.11870  | 10.280373 | 35.10675  | 3.780869  | 2.888378  | \n",
       "| 11.66750  | 10.335864 | 80.94773  | 3.627326  | 3.093994  | \n",
       "| 11.56729  | 10.030260 | 41.09623  | 4.057343  | 2.750588  | \n",
       "| 11.47811  | 10.112374 | 33.05805  | 3.483499  | 2.902913  | \n",
       "| 10.90977  |  9.892979 | 33.60868  | 3.727592  | 2.833061  | \n",
       "| 10.86412  |  9.876320 | 62.27897  | 4.022449  | 3.030186  | \n",
       "| ⋮ | ⋮ | ⋮ | ⋮ | ⋮ | \n",
       "| 11.16249  | 10.144700 |  49.74948 | 3.748337  | 2.863244  | \n",
       "| 11.16369  | 10.175085 |  26.54782 | 3.911138  | 2.946443  | \n",
       "| 11.29827  | 10.239507 |  82.67833 | 4.018382  | 3.004570  | \n",
       "| 11.38162  |  9.978929 |  35.61309 | 4.032044  | 3.011555  | \n",
       "| 11.06630  | 10.049040 |  35.84731 | 3.798419  | 3.016114  | \n",
       "| 11.41584  | 10.046925 |  30.91938 | 3.743129  | 2.968717  | \n",
       "| 11.34406  | 10.052281 |  24.26473 | 3.636262  | 2.969240  | \n",
       "| 11.71377  | 10.163033 |  82.98691 | 3.775043  | 2.834429  | \n",
       "| 11.04679  |  9.892615 |  72.59268 | 3.991694  | 2.967496  | \n",
       "| 11.35737  | 10.374307 |  43.33462 | 3.962862  | 2.985987  | \n",
       "| 11.06681  | 10.296926 |  40.74995 | 3.494553  | 2.961899  | \n",
       "| 11.37714  | 10.067952 |  13.54313 | 3.476036  | 3.031416  | \n",
       "| 11.30011  | 10.186945 |  17.71077 | 3.408192  | 3.016976  | \n",
       "| 11.40203  |  9.985147 |  93.27584 | 3.829625  | 3.140429  | \n",
       "| 10.99202  | 10.058815 |  93.52617 | 4.169713  | 2.771888  | \n",
       "| 11.22818  | 10.008779 |  79.18429 | 4.093479  | 2.918404  | \n",
       "| 11.02188  | 10.226344 |  50.87045 | 4.005830  | 3.007056  | \n",
       "| 11.23439  | 10.412573 |  45.06601 | 3.611836  | 3.003826  | \n",
       "| 10.92355  |  9.977942 |  26.38192 | 3.752364  | 2.976904  | \n",
       "| 10.96776  | 10.161072 |  23.52047 | 3.668839  | 2.791075  | \n",
       "| 11.35725  | 10.104121 |  32.48506 | 3.768530  | 2.869902  | \n",
       "| 11.50689  | 10.229500 |  63.88824 | 3.865822  | 2.942258  | \n",
       "| 11.48082  | 10.245349 |  29.90929 | 3.892888  | 2.849285  | \n",
       "| 11.50900  | 10.263244 |  40.93694 | 3.821435  | 2.959070  | \n",
       "| 11.24920  | 10.134110 |  70.16925 | 3.865725  | 3.082106  | \n",
       "| 11.05783  | 10.223117 |  73.85727 | 4.052443  | 2.832963  | \n",
       "| 11.48136  | 10.069861 | 101.85389 | 4.083309  | 2.861438  | \n",
       "| 11.75620  |  9.994564 | 114.22548 | 3.851719  | 3.106053  | \n",
       "| 11.72522  | 10.549042 |  24.75747 | 3.872864  | 2.962862  | \n",
       "| 11.34969  | 10.442803 |  22.82124 | 3.898718  | 2.807779  | \n",
       "\n",
       "\n"
      ],
      "text/plain": [
       "       mu1      mu2       nu        sigma1   sigma2  \n",
       "1      11.01864 10.168850 55.49925  3.717935 2.948872\n",
       "2      10.90081 10.152592 82.13283  3.730241 3.038753\n",
       "3      11.12510 10.137251 63.15984  3.807603 2.876087\n",
       "4      11.00589 10.145538 34.22431  3.873142 3.004851\n",
       "5      11.25291 10.300545 59.24125  3.721348 3.040935\n",
       "6      10.96573 10.162759 38.62068  3.806647 3.012268\n",
       "7      11.11698  9.919257 35.95160  3.890423 2.848524\n",
       "8      11.31147 10.162331 35.22130  3.615410 2.872335\n",
       "9      11.39592 10.123264 59.83225  3.707345 2.862320\n",
       "10     11.35146 10.186161 72.80634  3.887366 2.831601\n",
       "11     10.95510 10.277234 71.05139  3.934899 2.856984\n",
       "12     11.04932 10.032221 76.63421  4.029122 2.963559\n",
       "13     11.09459 10.221087 14.92271  4.004861 2.757326\n",
       "14     11.22464 10.119849 22.83951  4.049554 2.959522\n",
       "15     11.27432 10.100924 17.59793  3.484968 2.728434\n",
       "16     11.25851 10.219013 30.24533  3.513913 2.871949\n",
       "17     11.41794 10.091328 19.22294  3.439457 2.831477\n",
       "18     11.21031  9.965423 21.49235  3.439885 2.859440\n",
       "19     11.03741  9.991719 47.82157  3.950201 2.860598\n",
       "20     11.02221  9.941494 46.31690  3.831640 2.851757\n",
       "21     11.63596 10.169088 86.95976  3.970841 2.985082\n",
       "22     11.68714 10.201904 87.91609  4.049950 2.893599\n",
       "23     11.66547 10.028153 46.74473  3.753199 3.024167\n",
       "24     11.49633 10.037422 35.88072  3.819293 2.925706\n",
       "25     11.11870 10.280373 35.10675  3.780869 2.888378\n",
       "26     11.66750 10.335864 80.94773  3.627326 3.093994\n",
       "27     11.56729 10.030260 41.09623  4.057343 2.750588\n",
       "28     11.47811 10.112374 33.05805  3.483499 2.902913\n",
       "29     10.90977  9.892979 33.60868  3.727592 2.833061\n",
       "30     10.86412  9.876320 62.27897  4.022449 3.030186\n",
       "⋮      ⋮        ⋮         ⋮         ⋮        ⋮       \n",
       "99973  11.16249 10.144700  49.74948 3.748337 2.863244\n",
       "99974  11.16369 10.175085  26.54782 3.911138 2.946443\n",
       "99975  11.29827 10.239507  82.67833 4.018382 3.004570\n",
       "99976  11.38162  9.978929  35.61309 4.032044 3.011555\n",
       "99977  11.06630 10.049040  35.84731 3.798419 3.016114\n",
       "99978  11.41584 10.046925  30.91938 3.743129 2.968717\n",
       "99979  11.34406 10.052281  24.26473 3.636262 2.969240\n",
       "99980  11.71377 10.163033  82.98691 3.775043 2.834429\n",
       "99981  11.04679  9.892615  72.59268 3.991694 2.967496\n",
       "99982  11.35737 10.374307  43.33462 3.962862 2.985987\n",
       "99983  11.06681 10.296926  40.74995 3.494553 2.961899\n",
       "99984  11.37714 10.067952  13.54313 3.476036 3.031416\n",
       "99985  11.30011 10.186945  17.71077 3.408192 3.016976\n",
       "99986  11.40203  9.985147  93.27584 3.829625 3.140429\n",
       "99987  10.99202 10.058815  93.52617 4.169713 2.771888\n",
       "99988  11.22818 10.008779  79.18429 4.093479 2.918404\n",
       "99989  11.02188 10.226344  50.87045 4.005830 3.007056\n",
       "99990  11.23439 10.412573  45.06601 3.611836 3.003826\n",
       "99991  10.92355  9.977942  26.38192 3.752364 2.976904\n",
       "99992  10.96776 10.161072  23.52047 3.668839 2.791075\n",
       "99993  11.35725 10.104121  32.48506 3.768530 2.869902\n",
       "99994  11.50689 10.229500  63.88824 3.865822 2.942258\n",
       "99995  11.48082 10.245349  29.90929 3.892888 2.849285\n",
       "99996  11.50900 10.263244  40.93694 3.821435 2.959070\n",
       "99997  11.24920 10.134110  70.16925 3.865725 3.082106\n",
       "99998  11.05783 10.223117  73.85727 4.052443 2.832963\n",
       "99999  11.48136 10.069861 101.85389 4.083309 2.861438\n",
       "100000 11.75620  9.994564 114.22548 3.851719 3.106053\n",
       "100001 11.72522 10.549042  24.75747 3.872864 2.962862\n",
       "100002 11.34969 10.442803  22.82124 3.898718 2.807779"
      ]
     },
     "metadata": {},
     "output_type": "display_data"
    }
   ],
   "source": [
    "BESTout"
   ]
  },
  {
   "cell_type": "code",
   "execution_count": 6,
   "metadata": {},
   "outputs": [
    {
     "data": {
      "image/png": "[encoded data removed]",
      "text/plain": [
       "Plot with title “Difference of Means”"
      ]
     },
     "metadata": {},
     "output_type": "display_data"
    }
   ],
   "source": [
    "plot(BESTout)"
   ]
  },
  {
   "cell_type": "code",
   "execution_count": 7,
   "metadata": {},
   "outputs": [
    {
     "data": {
      "text/html": [
       "<table>\n",
       "<thead><tr><th></th><th scope=col>mean</th><th scope=col>median</th><th scope=col>mode</th><th scope=col>HDI%</th><th scope=col>HDIlo</th><th scope=col>HDIup</th><th scope=col>compVal</th><th scope=col>%&gt;compVal</th><th scope=col>ROPElow</th><th scope=col>ROPEhigh</th><th scope=col>%InROPE</th></tr></thead>\n",
       "<tbody>\n",
       "\t<tr><th scope=row>mu1</th><td>11.2413208 </td><td>11.2416135 </td><td>11.245093  </td><td>95         </td><td>10.8072329 </td><td> 11.6852358</td><td>NA         </td><td>    NA     </td><td>  NA       </td><td> NA        </td><td>      NA   </td></tr>\n",
       "\t<tr><th scope=row>mu2</th><td>10.1114726 </td><td>10.1112447 </td><td>10.103088  </td><td>95         </td><td> 9.7991119 </td><td> 10.4270791</td><td>NA         </td><td>    NA     </td><td>  NA       </td><td> NA        </td><td>      NA   </td></tr>\n",
       "\t<tr><th scope=row>muDiff</th><td> 1.1298482 </td><td> 1.1303780 </td><td> 1.131915  </td><td>95         </td><td> 0.5851392 </td><td>  1.6649835</td><td> 0         </td><td>99.997     </td><td>  NA       </td><td> NA        </td><td>      NA   </td></tr>\n",
       "\t<tr><th scope=row>sigma1</th><td> 3.8118523 </td><td> 3.8073830 </td><td> 3.799115  </td><td>95         </td><td> 3.4787937 </td><td>  4.1516551</td><td>NA         </td><td>    NA     </td><td>  NA       </td><td> NA        </td><td>      NA   </td></tr>\n",
       "\t<tr><th scope=row>sigma2</th><td> 2.9334995 </td><td> 2.9315513 </td><td> 2.930303  </td><td>95         </td><td> 2.7006335 </td><td>  3.1651288</td><td>NA         </td><td>    NA     </td><td>  NA       </td><td> NA        </td><td>      NA   </td></tr>\n",
       "\t<tr><th scope=row>sigmaDiff</th><td> 0.8783528 </td><td> 0.8751226 </td><td> 0.870740  </td><td>95         </td><td> 0.4875530 </td><td>  1.2756790</td><td> 0         </td><td>99.998     </td><td>  NA       </td><td> NA        </td><td>      NA   </td></tr>\n",
       "\t<tr><th scope=row>nu</th><td>55.5544226 </td><td>47.6468229 </td><td>33.171298  </td><td>95         </td><td>10.9425132 </td><td>120.0474574</td><td>NA         </td><td>    NA     </td><td>  NA       </td><td> NA        </td><td>      NA   </td></tr>\n",
       "\t<tr><th scope=row>log10nu</th><td> 1.6785520 </td><td> 1.6780339 </td><td> 1.683161  </td><td>95         </td><td> 1.2138301 </td><td>  2.1403862</td><td>NA         </td><td>    NA     </td><td>  NA       </td><td> NA        </td><td>      NA   </td></tr>\n",
       "\t<tr><th scope=row>effSz</th><td> 0.3324610 </td><td> 0.3323966 </td><td> 0.323506  </td><td>95         </td><td> 0.1703209 </td><td>  0.4909151</td><td> 0         </td><td>99.997     </td><td>-0.3       </td><td>0.3        </td><td>34.60531   </td></tr>\n",
       "</tbody>\n",
       "</table>\n"
      ],
      "text/latex": [
       "\\begin{tabular}{r|lllllllllll}\n",
       "  & mean & median & mode & HDI\\% & HDIlo & HDIup & compVal & \\%>compVal & ROPElow & ROPEhigh & \\%InROPE\\\\\n",
       "\\hline\n",
       "\tmu1 & 11.2413208  & 11.2416135  & 11.245093   & 95          & 10.8072329  &  11.6852358 & NA          &     NA      &   NA        &  NA         &       NA   \\\\\n",
       "\tmu2 & 10.1114726  & 10.1112447  & 10.103088   & 95          &  9.7991119  &  10.4270791 & NA          &     NA      &   NA        &  NA         &       NA   \\\\\n",
       "\tmuDiff &  1.1298482  &  1.1303780  &  1.131915   & 95          &  0.5851392  &   1.6649835 &  0          & 99.997      &   NA        &  NA         &       NA   \\\\\n",
       "\tsigma1 &  3.8118523  &  3.8073830  &  3.799115   & 95          &  3.4787937  &   4.1516551 & NA          &     NA      &   NA        &  NA         &       NA   \\\\\n",
       "\tsigma2 &  2.9334995  &  2.9315513  &  2.930303   & 95          &  2.7006335  &   3.1651288 & NA          &     NA      &   NA        &  NA         &       NA   \\\\\n",
       "\tsigmaDiff &  0.8783528  &  0.8751226  &  0.870740   & 95          &  0.4875530  &   1.2756790 &  0          & 99.998      &   NA        &  NA         &       NA   \\\\\n",
       "\tnu & 55.5544226  & 47.6468229  & 33.171298   & 95          & 10.9425132  & 120.0474574 & NA          &     NA      &   NA        &  NA         &       NA   \\\\\n",
       "\tlog10nu &  1.6785520  &  1.6780339  &  1.683161   & 95          &  1.2138301  &   2.1403862 & NA          &     NA      &   NA        &  NA         &       NA   \\\\\n",
       "\teffSz &  0.3324610  &  0.3323966  &  0.323506   & 95          &  0.1703209  &   0.4909151 &  0          & 99.997      & -0.3        & 0.3         & 34.60531   \\\\\n",
       "\\end{tabular}\n"
      ],
      "text/markdown": [
       "\n",
       "| <!--/--> | mean | median | mode | HDI% | HDIlo | HDIup | compVal | %>compVal | ROPElow | ROPEhigh | %InROPE | \n",
       "|---|---|---|---|---|---|---|---|---|\n",
       "| mu1 | 11.2413208  | 11.2416135  | 11.245093   | 95          | 10.8072329  |  11.6852358 | NA          |     NA      |   NA        |  NA         |       NA    | \n",
       "| mu2 | 10.1114726  | 10.1112447  | 10.103088   | 95          |  9.7991119  |  10.4270791 | NA          |     NA      |   NA        |  NA         |       NA    | \n",
       "| muDiff |  1.1298482  |  1.1303780  |  1.131915   | 95          |  0.5851392  |   1.6649835 |  0          | 99.997      |   NA        |  NA         |       NA    | \n",
       "| sigma1 |  3.8118523  |  3.8073830  |  3.799115   | 95          |  3.4787937  |   4.1516551 | NA          |     NA      |   NA        |  NA         |       NA    | \n",
       "| sigma2 |  2.9334995  |  2.9315513  |  2.930303   | 95          |  2.7006335  |   3.1651288 | NA          |     NA      |   NA        |  NA         |       NA    | \n",
       "| sigmaDiff |  0.8783528  |  0.8751226  |  0.870740   | 95          |  0.4875530  |   1.2756790 |  0          | 99.998      |   NA        |  NA         |       NA    | \n",
       "| nu | 55.5544226  | 47.6468229  | 33.171298   | 95          | 10.9425132  | 120.0474574 | NA          |     NA      |   NA        |  NA         |       NA    | \n",
       "| log10nu |  1.6785520  |  1.6780339  |  1.683161   | 95          |  1.2138301  |   2.1403862 | NA          |     NA      |   NA        |  NA         |       NA    | \n",
       "| effSz |  0.3324610  |  0.3323966  |  0.323506   | 95          |  0.1703209  |   0.4909151 |  0          | 99.997      | -0.3        | 0.3         | 34.60531    | \n",
       "\n",
       "\n"
      ],
      "text/plain": [
       "          mean       median     mode      HDI% HDIlo      HDIup       compVal\n",
       "mu1       11.2413208 11.2416135 11.245093 95   10.8072329  11.6852358 NA     \n",
       "mu2       10.1114726 10.1112447 10.103088 95    9.7991119  10.4270791 NA     \n",
       "muDiff     1.1298482  1.1303780  1.131915 95    0.5851392   1.6649835  0     \n",
       "sigma1     3.8118523  3.8073830  3.799115 95    3.4787937   4.1516551 NA     \n",
       "sigma2     2.9334995  2.9315513  2.930303 95    2.7006335   3.1651288 NA     \n",
       "sigmaDiff  0.8783528  0.8751226  0.870740 95    0.4875530   1.2756790  0     \n",
       "nu        55.5544226 47.6468229 33.171298 95   10.9425132 120.0474574 NA     \n",
       "log10nu    1.6785520  1.6780339  1.683161 95    1.2138301   2.1403862 NA     \n",
       "effSz      0.3324610  0.3323966  0.323506 95    0.1703209   0.4909151  0     \n",
       "          %>compVal ROPElow ROPEhigh %InROPE \n",
       "mu1           NA      NA     NA            NA\n",
       "mu2           NA      NA     NA            NA\n",
       "muDiff    99.997      NA     NA            NA\n",
       "sigma1        NA      NA     NA            NA\n",
       "sigma2        NA      NA     NA            NA\n",
       "sigmaDiff 99.998      NA     NA            NA\n",
       "nu            NA      NA     NA            NA\n",
       "log10nu       NA      NA     NA            NA\n",
       "effSz     99.997    -0.3    0.3      34.60531"
      ]
     },
     "metadata": {},
     "output_type": "display_data"
    }
   ],
   "source": [
    "summary(BESTout, ROPEeff=c(-0.3, 0.3))"
   ]
  },
  {
   "cell_type": "markdown",
   "metadata": {},
   "source": [
    "**What is the 95%HDI on the mean difference?**  \n",
    "1.1314107\n",
    "\n",
    "**What is the 95%HDI on the effect size?**  \n",
    "0.3330665\n",
    "\n",
    "**what is the probability that the experimental and the control group difference is irrelevant, given the 0.3 irrelevance on the effect size above? (see the ROPEeff parameter in the summary function)**  \n",
    "34.52331%"
   ]
  }
 ],
 "metadata": {
  "kernelspec": {
   "display_name": "R",
   "language": "R",
   "name": "ir"
  },
  "language_info": {
   "codemirror_mode": "r",
   "file_extension": ".r",
   "mimetype": "text/x-r-source",
   "name": "R",
   "pygments_lexer": "r",
   "version": "3.4.4"
  }
 },
 "nbformat": 4,
 "nbformat_minor": 2
}
