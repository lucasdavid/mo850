{
 "cells": [
  {
   "cell_type": "markdown",
   "metadata": {},
   "source": [
    "# Assignment 4 - part 1\n",
    "\n",
    "Author: [Lucas David](http://github.com/lucasdavid)  \n",
    "This notebook can be downloaded at https://github.com/lucasdavid/mo850/"
   ]
  },
  {
   "cell_type": "code",
   "execution_count": 1,
   "metadata": {},
   "outputs": [],
   "source": [
    "import os\n",
    "from itertools import combinations\n",
    "\n",
    "import numpy as np\n",
    "import pandas as pd\n",
    "from scipy import stats\n",
    "import scikit_posthocs as sp\n",
    "from statsmodels.stats.weightstats import ttost_ind\n",
    "\n",
    "import matplotlib\n",
    "from matplotlib import pyplot\n",
    "\n",
    "%matplotlib inline"
   ]
  },
  {
   "cell_type": "code",
   "execution_count": 2,
   "metadata": {},
   "outputs": [
    {
     "name": "stdout",
     "output_type": "stream",
     "text": [
      "exp group\n",
      "   6.73257818975666\n",
      "0         12.481446\n",
      "1          8.573194\n",
      "2         10.452512\n",
      "3          7.492170\n",
      "4         12.695852\n",
      "mean, std and shape: 11.232254543347624 3.892265920361417 (299, 1)\n",
      "\n",
      "control group\n",
      "   8.31495993670024\n",
      "0          9.104521\n",
      "1          8.631113\n",
      "2          2.676400\n",
      "3          9.096843\n",
      "4          7.040633\n",
      "mean, std and shape: 10.107506273449681 2.98095565568238 (349, 1)\n",
      "\n"
     ]
    }
   ],
   "source": [
    "groups = ('exp', 'control')\n",
    "e, c = (pd.read_csv('../data/4/%s.csv' % f) for f in groups)\n",
    "\n",
    "for n, g in zip(groups, (e, c)):\n",
    "    print(n, 'group')\n",
    "    print(g.head())\n",
    "    print('mean, std and shape:', g.mean()[0], g.std()[0], g.shape,\n",
    "          end='\\n\\n')"
   ]
  },
  {
   "cell_type": "code",
   "execution_count": 3,
   "metadata": {},
   "outputs": [
    {
     "name": "stdout",
     "output_type": "stream",
     "text": [
      "t-statistic: 4.076416542626893\n",
      "t-test's p-value: 5.244260309336918e-05\n"
     ]
    }
   ],
   "source": [
    "[t], [p] = stats.ttest_ind(e, c, equal_var=False)\n",
    "print('t-statistic:', t)\n",
    "print('t-test\\'s p-value:', p)"
   ]
  },
  {
   "cell_type": "markdown",
   "metadata": {},
   "source": [
    "## Equivalence tests"
   ]
  },
  {
   "cell_type": "code",
   "execution_count": 4,
   "metadata": {},
   "outputs": [
    {
     "name": "stdout",
     "output_type": "stream",
     "text": [
      "ttost independent: 0.0007984924128664555\n"
     ]
    }
   ],
   "source": [
    "[p], *rest = ttost_ind(e, c, low=-2, upp=2, usevar='unequal')\n",
    "print('ttost independent:', p)"
   ]
  },
  {
   "cell_type": "markdown",
   "metadata": {},
   "source": [
    "**Can you say that the two groups are equivalent?**  \n",
    "Yes, as the p-value of the non-equivalence test is bellow the 5% threshold."
   ]
  },
  {
   "cell_type": "markdown",
   "metadata": {},
   "source": [
    " ## Effect size"
   ]
  },
  {
   "cell_type": "markdown",
   "metadata": {},
   "source": [
    "**Compute the Cohen d from the treatment**"
   ]
  },
  {
   "cell_type": "code",
   "execution_count": 5,
   "metadata": {},
   "outputs": [],
   "source": [
    "def cohen_d(x, y):\n",
    "    # Originally implemented at:\n",
    "    # https://stackoverflow.com/questions/21532471/how-to-calculate-cohens-d-in-python\n",
    "    from numpy import std, mean, sqrt\n",
    "    nx = len(x)\n",
    "    ny = len(y)\n",
    "    dof = nx + ny - 2\n",
    "    return (mean(x) - mean(y)) / sqrt(((nx-1)*std(x, ddof=1) ** 2 + (ny-1)*std(y, ddof=1) ** 2) / dof)"
   ]
  },
  {
   "cell_type": "code",
   "execution_count": 6,
   "metadata": {},
   "outputs": [
    {
     "name": "stdout",
     "output_type": "stream",
     "text": [
      "Cohen's d: 0.3277671224587828\n"
     ]
    }
   ],
   "source": [
    "cohen_d_ = cohen_d(e.values.ravel(), c.values.ravel())\n",
    "print('Cohen\\'s d:', cohen_d_)"
   ]
  }
 ],
 "metadata": {
  "kernelspec": {
   "display_name": "Python 3",
   "language": "python",
   "name": "python3"
  },
  "language_info": {
   "codemirror_mode": {
    "name": "ipython",
    "version": 3
   },
   "file_extension": ".py",
   "mimetype": "text/x-python",
   "name": "python",
   "nbconvert_exporter": "python",
   "pygments_lexer": "ipython3",
   "version": "3.6.5"
  }
 },
 "nbformat": 4,
 "nbformat_minor": 2
}
