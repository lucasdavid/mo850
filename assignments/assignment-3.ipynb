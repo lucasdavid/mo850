{
 "cells": [
  {
   "cell_type": "markdown",
   "metadata": {},
   "source": [
    "# Assignment 3"
   ]
  },
  {
   "cell_type": "markdown",
   "metadata": {},
   "source": [
    "Author: [Lucas David](http://github.com/lucasdavid)  \n",
    "This notebook can be downloaded at https://github.com/lucasdavid/mo850/"
   ]
  },
  {
   "cell_type": "code",
   "execution_count": 12,
   "metadata": {},
   "outputs": [],
   "source": [
    "import os\n",
    "import numpy as np\n",
    "import pandas as pd\n",
    "import scipy\n",
    "from scipy import stats\n",
    "import scikits.bootstrap as bootstrap\n",
    "import statsmodels.stats.contingency_tables\n",
    "\n",
    "import matplotlib\n",
    "from matplotlib import pyplot\n",
    "\n",
    "%matplotlib inline"
   ]
  },
  {
   "cell_type": "code",
   "execution_count": 10,
   "metadata": {},
   "outputs": [
    {
     "name": "stdout",
     "output_type": "stream",
     "text": [
      "          0\n",
      "0  4.249030\n",
      "1  5.542826\n",
      "2  5.161981\n",
      "3  2.267553\n",
      "4  4.155343\n",
      "          0\n",
      "0  4.297176\n",
      "1  4.619454\n",
      "2  2.844241\n",
      "3  4.279440\n",
      "4  1.668874\n",
      "          0\n",
      "0  5.019398\n",
      "1  5.166776\n",
      "2  6.382141\n",
      "3  5.726673\n",
      "4  6.456638\n",
      "          0\n",
      "0  5.512453\n",
      "1  5.116566\n",
      "2  5.885962\n",
      "3  6.014245\n",
      "4  4.895102\n",
      "          0\n",
      "0  7.293182\n",
      "1  5.392684\n",
      "2  5.909335\n",
      "3  5.714987\n",
      "4  7.215413\n"
     ]
    }
   ],
   "source": [
    "data_dir = '../data/3/'\n",
    "\n",
    "datasets = os.listdir(data_dir)\n",
    "datasets = [pd.read_csv(os.path.join(data_dir, d), header=None)\n",
    "            for d in datasets]\n",
    "\n",
    "print(*[d.head() for d in datasets], sep='\\n')"
   ]
  },
  {
   "cell_type": "code",
   "execution_count": 19,
   "metadata": {},
   "outputs": [
    {
     "name": "stdout",
     "output_type": "stream",
     "text": [
      "p-value for anova test: [3.35954783e-12]\n"
     ]
    }
   ],
   "source": [
    "r, p = stats.f_oneway(*datasets)\n",
    "print('p-value for anova test:', p)"
   ]
  }
 ],
 "metadata": {
  "kernelspec": {
   "display_name": "Python 3",
   "language": "python",
   "name": "python3"
  },
  "language_info": {
   "codemirror_mode": {
    "name": "ipython",
    "version": 3
   },
   "file_extension": ".py",
   "mimetype": "text/x-python",
   "name": "python",
   "nbconvert_exporter": "python",
   "pygments_lexer": "ipython3",
   "version": "3.6.3"
  }
 },
 "nbformat": 4,
 "nbformat_minor": 2
}
